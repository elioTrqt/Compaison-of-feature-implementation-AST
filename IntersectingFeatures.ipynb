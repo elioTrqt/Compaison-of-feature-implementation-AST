{
 "cells": [
  {
   "cell_type": "code",
   "execution_count": 6,
   "metadata": {},
   "outputs": [],
   "source": [
    "import CommitASTModule as cm\n",
    "import requests\n",
    "from your_token import token\n",
    "\n",
    "user = \"BroadleafCommerce\"\n",
    "repo = \"BroadleafCommerce\"\n",
    "headers = {\"Accept\": \"application/vnd.github+json\", \"Authorization\" : f\"Token {token}\"}\n",
    "baseURL = f\"https://api.github.com/repos/{user}/{repo}\""
   ]
  },
  {
   "attachments": {},
   "cell_type": "markdown",
   "metadata": {},
   "source": [
    "### 1. Get the list of commits for each pull request implementing a feature"
   ]
  },
  {
   "cell_type": "code",
   "execution_count": 7,
   "metadata": {},
   "outputs": [],
   "source": [
    "pull_requests = requests.get(f\"{baseURL}/pulls\", params={\"labels\" : [\"type-feature\"], \"state\" : \"closed\"}, headers=headers).json()\n",
    "commits_per_pr = { p[\"number\"] : requests.get(p[\"commits_url\"], headers=headers).json() for p in pull_requests}\n",
    "\n",
    "\n",
    "for key, val in commits_per_pr.items():\n",
    "    commits_per_pr[key] = [requests.get(c[\"url\"], headers=headers).json() for c in val]"
   ]
  },
  {
   "attachments": {},
   "cell_type": "markdown",
   "metadata": {},
   "source": [
    "### 2. Get each file that has bean modified by 2 pull requests"
   ]
  },
  {
   "attachments": {},
   "cell_type": "markdown",
   "metadata": {},
   "source": [
    "#### 2.1 Get the list of files modified by each pull request\n",
    "\n",
    "*file_per_pr* = {pr_id: [(file1, commit), (file2, commit) ...], ...}"
   ]
  },
  {
   "cell_type": "code",
   "execution_count": 8,
   "metadata": {},
   "outputs": [],
   "source": [
    "file_per_pr = {}\n",
    "for key, val in commits_per_pr.items():\n",
    "    files = []\n",
    "    for c in commits_per_pr[key]:\n",
    "        files += [(f[\"filename\"], c[\"sha\"]) for f in c[\"files\"]]\n",
    "    file_per_pr[key] = files"
   ]
  },
  {
   "attachments": {},
   "cell_type": "markdown",
   "metadata": {},
   "source": [
    "#### 2.2 Search for intersections between the lists of files in *file_per_pr*"
   ]
  },
  {
   "cell_type": "code",
   "execution_count": 9,
   "metadata": {},
   "outputs": [
    {
     "name": "stdout",
     "output_type": "stream",
     "text": [
      "[\n",
      "    2823,\n",
      "    2816,\n",
      "    [\n",
      "        [\n",
      "            [\n",
      "                \"admin/broadleaf-open-admin-platform/src/main/java/org/broadleafcommerce/openadmin/server/service/persistence/validation/AdminRegexValidator.java\",\n",
      "                \"0e5aca2181318414618d689bde3d6eb5ba863185\"\n",
      "            ],\n",
      "            [\n",
      "                \"admin/broadleaf-open-admin-platform/src/main/java/org/broadleafcommerce/openadmin/server/service/persistence/validation/AdminRegexValidator.java\",\n",
      "                \"af9db6a4504a3c9eb59e7d898d4f128a9f7a75de\"\n",
      "            ]\n",
      "        ],\n",
      "        [\n",
      "            [\n",
      "                \"admin/broadleaf-open-admin-platform/src/main/java/org/broadleafcommerce/openadmin/server/service/persistence/validation/AdminRegexValidator.java\",\n",
      "                \"0e5aca2181318414618d689bde3d6eb5ba863185\"\n",
      "            ],\n",
      "            [\n",
      "                \"admin/broadleaf-open-admin-platform/src/main/java/org/broadleafcommerce/openadmin/server/service/persistence/validation/AdminRegexValidator.java\",\n",
      "                \"b79d3a0a5ca686a382b7b54eed48cbb54dafb3cc\"\n",
      "            ]\n",
      "        ],\n",
      "        [\n",
      "            [\n",
      "                \"admin/broadleaf-open-admin-platform/src/main/java/org/broadleafcommerce/openadmin/server/service/persistence/validation/AdminRegexValidator.java\",\n",
      "                \"0e5aca2181318414618d689bde3d6eb5ba863185\"\n",
      "            ],\n",
      "            [\n",
      "                \"admin/broadleaf-open-admin-platform/src/main/java/org/broadleafcommerce/openadmin/server/service/persistence/validation/AdminRegexValidator.java\",\n",
      "                \"36d2bde27d72bd1461e5bd5c9c847b19f4262bf6\"\n",
      "            ]\n",
      "        ],\n",
      "        [\n",
      "            [\n",
      "                \"admin/broadleaf-open-admin-platform/src/main/java/org/broadleafcommerce/openadmin/server/service/persistence/validation/AdminRegexValidator.java\",\n",
      "                \"0e5aca2181318414618d689bde3d6eb5ba863185\"\n",
      "            ],\n",
      "            [\n",
      "                \"admin/broadleaf-open-admin-platform/src/main/java/org/broadleafcommerce/openadmin/server/service/persistence/validation/AdminRegexValidator.java\",\n",
      "                \"614957fcecc9237a30ebecd3462ae0ec51423dd3\"\n",
      "            ]\n",
      "        ],\n",
      "        [\n",
      "            [\n",
      "                \"admin/broadleaf-open-admin-platform/src/main/java/org/broadleafcommerce/openadmin/server/service/persistence/validation/AdminRegexValidator.java\",\n",
      "                \"1e9bdde8405f75eac997019ad2139e08abf6073b\"\n",
      "            ],\n",
      "            [\n",
      "                \"admin/broadleaf-open-admin-platform/src/main/java/org/broadleafcommerce/openadmin/server/service/persistence/validation/AdminRegexValidator.java\",\n",
      "                \"af9db6a4504a3c9eb59e7d898d4f128a9f7a75de\"\n",
      "            ]\n",
      "        ],\n",
      "        [\n",
      "            [\n",
      "                \"admin/broadleaf-open-admin-platform/src/main/java/org/broadleafcommerce/openadmin/server/service/persistence/validation/AdminRegexValidator.java\",\n",
      "                \"1e9bdde8405f75eac997019ad2139e08abf6073b\"\n",
      "            ],\n",
      "            [\n",
      "                \"admin/broadleaf-open-admin-platform/src/main/java/org/broadleafcommerce/openadmin/server/service/persistence/validation/AdminRegexValidator.java\",\n",
      "                \"b79d3a0a5ca686a382b7b54eed48cbb54dafb3cc\"\n",
      "            ]\n",
      "        ],\n",
      "        [\n",
      "            [\n",
      "                \"admin/broadleaf-open-admin-platform/src/main/java/org/broadleafcommerce/openadmin/server/service/persistence/validation/AdminRegexValidator.java\",\n",
      "                \"1e9bdde8405f75eac997019ad2139e08abf6073b\"\n",
      "            ],\n",
      "            [\n",
      "                \"admin/broadleaf-open-admin-platform/src/main/java/org/broadleafcommerce/openadmin/server/service/persistence/validation/AdminRegexValidator.java\",\n",
      "                \"36d2bde27d72bd1461e5bd5c9c847b19f4262bf6\"\n",
      "            ]\n",
      "        ],\n",
      "        [\n",
      "            [\n",
      "                \"admin/broadleaf-open-admin-platform/src/main/java/org/broadleafcommerce/openadmin/server/service/persistence/validation/AdminRegexValidator.java\",\n",
      "                \"1e9bdde8405f75eac997019ad2139e08abf6073b\"\n",
      "            ],\n",
      "            [\n",
      "                \"admin/broadleaf-open-admin-platform/src/main/java/org/broadleafcommerce/openadmin/server/service/persistence/validation/AdminRegexValidator.java\",\n",
      "                \"614957fcecc9237a30ebecd3462ae0ec51423dd3\"\n",
      "            ]\n",
      "        ]\n",
      "    ]\n",
      "]\n"
     ]
    }
   ],
   "source": [
    "def find_intersection(list1, list2):\n",
    "    result = []\n",
    "    for i in range(len(list1)):\n",
    "        for j in range(len(list2)):\n",
    "            if list1[i][0] == list2[j][0]:\n",
    "                result.append((list1[i], list2[j]))\n",
    "    return result\n",
    "\n",
    "\n",
    "intersections = []\n",
    "keys = list(commits_per_pr.keys())\n",
    "for i in range(len(keys)):\n",
    "    for j in range(i+1, len(keys)):\n",
    "        inter = find_intersection(file_per_pr[keys[i]], file_per_pr[keys[j]])\n",
    "        if len(inter) > 0:\n",
    "            intersections.append((keys[i], keys[j], inter)) \n",
    "\n",
    "cm.printJson(intersections[5])"
   ]
  },
  {
   "attachments": {},
   "cell_type": "markdown",
   "metadata": {},
   "source": [
    "### 3. Get 2 commits intersecting in a file"
   ]
  },
  {
   "cell_type": "code",
   "execution_count": 10,
   "metadata": {},
   "outputs": [],
   "source": [
    "inter_example = intersections[5]\n",
    "\n",
    "filename = inter_example[2][0][0][0]\n",
    "ref1 = inter_example[2][0][0][1]\n",
    "ref2 = inter_example[2][0][1][1]\n",
    "commit1 = requests.get(f\"{baseURL}/commits/{ref1}\", headers=headers).json()\n",
    "commit2 = requests.get(f\"{baseURL}/commits/{ref2}\", headers=headers).json()\n",
    "\n",
    "file1 = None\n",
    "file2 = None\n",
    "\n",
    "for file in commit1[\"files\"]:\n",
    "    if file[\"filename\"] == filename:\n",
    "        file1 = file\n",
    "\n",
    "for file in commit2[\"files\"]:\n",
    "    if file[\"filename\"] == filename:\n",
    "        file2 = file"
   ]
  },
  {
   "attachments": {},
   "cell_type": "markdown",
   "metadata": {},
   "source": [
    "#### 4. The next steps would be to see what part of the code belong to each commits\n",
    "The aim is to determine the relation between two features analyeing the asts "
   ]
  }
 ],
 "metadata": {
  "kernelspec": {
   "display_name": ".venv",
   "language": "python",
   "name": "python3"
  },
  "language_info": {
   "codemirror_mode": {
    "name": "ipython",
    "version": 3
   },
   "file_extension": ".py",
   "mimetype": "text/x-python",
   "name": "python",
   "nbconvert_exporter": "python",
   "pygments_lexer": "ipython3",
   "version": "3.11.4"
  },
  "orig_nbformat": 4
 },
 "nbformat": 4,
 "nbformat_minor": 2
}
